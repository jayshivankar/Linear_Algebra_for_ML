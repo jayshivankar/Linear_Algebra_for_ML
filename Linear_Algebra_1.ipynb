{
  "nbformat": 4,
  "nbformat_minor": 0,
  "metadata": {
    "colab": {
      "provenance": [],
      "include_colab_link": true
    },
    "kernelspec": {
      "name": "python3",
      "display_name": "Python 3"
    },
    "language_info": {
      "name": "python"
    }
  },
  "cells": [
    {
      "cell_type": "markdown",
      "metadata": {
        "id": "view-in-github",
        "colab_type": "text"
      },
      "source": [
        "<a href=\"https://colab.research.google.com/github/jayshivankar/Linear_Algebra_for_ML/blob/main/Linear_Algebra_1.ipynb\" target=\"_parent\"><img src=\"https://colab.research.google.com/assets/colab-badge.svg\" alt=\"Open In Colab\"/></a>"
      ]
    },
    {
      "cell_type": "code",
      "execution_count": null,
      "metadata": {
        "id": "Pr9mSRLZAsgE"
      },
      "outputs": [],
      "source": [
        "import numpy as np\n",
        "import matplotlib.pyplot as plt"
      ]
    },
    {
      "cell_type": "code",
      "source": [
        "# Scalar - quantity with only magnitude (no direction, eg: temperature, speed, pressure)\n",
        "# Vector - quantity with both magnitude and direction (eg: velocity, momentum)"
      ],
      "metadata": {
        "id": "7i_RAurKBdeJ"
      },
      "execution_count": null,
      "outputs": []
    },
    {
      "cell_type": "code",
      "source": [
        "# scalar in python\n",
        "sclr = np.array([6])\n",
        "print(sclr)\n",
        "print(sclr.ndim)"
      ],
      "metadata": {
        "colab": {
          "base_uri": "https://localhost:8080/"
        },
        "id": "Ip-a-qxEA7F_",
        "outputId": "de96e9fb-c9fa-4c2c-82ad-2a1a15c20c4d"
      },
      "execution_count": null,
      "outputs": [
        {
          "output_type": "stream",
          "name": "stdout",
          "text": [
            "[6]\n",
            "1\n"
          ]
        }
      ]
    },
    {
      "cell_type": "code",
      "source": [
        "# Vector in python\n",
        "vector2D = np.array([[1, 2, 3]])\n",
        "print(vector2D)\n",
        "print(vector2D.ndim)"
      ],
      "metadata": {
        "colab": {
          "base_uri": "https://localhost:8080/"
        },
        "id": "Fr_mRM3lA7K-",
        "outputId": "29ea08bb-92c3-43d0-ac92-b8ccd7c39f4c"
      },
      "execution_count": null,
      "outputs": [
        {
          "output_type": "stream",
          "name": "stdout",
          "text": [
            "[[1 2 3]]\n",
            "2\n"
          ]
        }
      ]
    },
    {
      "cell_type": "code",
      "source": [
        "# 2D vector\n",
        "u = np.array([2, 5])    # x1, y1\n",
        "v = np.array([3, 1])    # x2, y2\n",
        "\n",
        "x_coords, y_coords = zip(u, v)\n",
        "plt.scatter(x_coords, y_coords, c=['r', 'b'])\n",
        "plt.axis([0, 9, 0, 6])\n",
        "plt.grid()\n",
        "plt.show()"
      ],
      "metadata": {
        "colab": {
          "base_uri": "https://localhost:8080/",
          "height": 435
        },
        "id": "ec-9I3adA7Ok",
        "outputId": "591c73a1-27b9-4695-c625-e8e3c4916e32"
      },
      "execution_count": null,
      "outputs": [
        {
          "output_type": "display_data",
          "data": {
            "text/plain": [
              "<Figure size 640x480 with 1 Axes>"
            ],
            "image/png": "[encoded data removed]"
          },
          "metadata": {}
        }
      ]
    },
    {
      "cell_type": "code",
      "source": [
        "# function to represent arrows\n",
        "def plot_vector2d(vector2d, origin=[0, 0], **options):\n",
        "    return plt.arrow(origin[0], origin[1], vector2d[0], vector2d[1],\n",
        "                     head_width=0.2, head_length=0.3, length_includes_head=True, **options)"
      ],
      "metadata": {
        "id": "kikgTjJnEkCS"
      },
      "execution_count": null,
      "outputs": []
    },
    {
      "cell_type": "code",
      "source": [
        "# ploting the vector\n",
        "plot_vector2d(u, color='r')\n",
        "plot_vector2d(v, color='b')\n",
        "plt.axis([0, 9, 0, 6])\n",
        "plt.grid()\n",
        "plt.show()"
      ],
      "metadata": {
        "colab": {
          "base_uri": "https://localhost:8080/",
          "height": 435
        },
        "id": "9pdIAq3wA7Rd",
        "outputId": "08e8e4a0-c14a-49e9-be58-58c1d4e28d91"
      },
      "execution_count": null,
      "outputs": [
        {
          "output_type": "display_data",
          "data": {
            "text/plain": [
              "<Figure size 640x480 with 1 Axes>"
            ],
            "image/png": "[encoded data removed]"
          },
          "metadata": {}
        }
      ]
    },
    {
      "cell_type": "code",
      "source": [
        "# vector addition\n",
        "print(u)\n",
        "print(v, '(+)')\n",
        "print('------')\n",
        "print(u+v)"
      ],
      "metadata": {
        "colab": {
          "base_uri": "https://localhost:8080/"
        },
        "id": "471fpUUJA7UC",
        "outputId": "bfc43e82-f1f6-4fb2-8d60-0a26a3917ff1"
      },
      "execution_count": null,
      "outputs": [
        {
          "output_type": "stream",
          "name": "stdout",
          "text": [
            "[2 5]\n",
            "[3 1] (+)\n",
            "------\n",
            "[5 6]\n"
          ]
        }
      ]
    },
    {
      "cell_type": "code",
      "source": [
        "# ploting the vector addition\n",
        "plot_vector2d(u, color='r')\n",
        "plot_vector2d(v, color='b')\n",
        "plot_vector2d(u+v, color='g')\n",
        "plot_vector2d(u, origin=v, color='r', ls='dotted')\n",
        "plot_vector2d(v, origin=u, color='b', ls='dotted')\n",
        "plt.axis([0, 9, 0, 7])\n",
        "plt.text(0.7, 3, 'u', fontsize=18)\n",
        "plt.text(1.8, 0.2, 'v', fontsize=18)\n",
        "plt.text(2.5, 2.5, 'u+v', fontsize=18)\n",
        "plt.text(4, 3, \"u\", fontsize=18)\n",
        "plt.text(3.2, 5.6, \"v\", fontsize=18)\n",
        "plt.grid()\n",
        "plt.show()"
      ],
      "metadata": {
        "colab": {
          "base_uri": "https://localhost:8080/",
          "height": 435
        },
        "id": "gg2g3XnTJFtc",
        "outputId": "ce9d8052-7ca8-4adf-a753-c511e24b7876"
      },
      "execution_count": null,
      "outputs": [
        {
          "output_type": "display_data",
          "data": {
            "text/plain": [
              "<Figure size 640x480 with 1 Axes>"
            ],
            "image/png": "[encoded data removed]"
          },
          "metadata": {}
        }
      ]
    },
    {
      "cell_type": "code",
      "source": [
        "t1 = np.array([2, 0.25])\n",
        "t2 = np.array([2.5, 3.5])\n",
        "t3 = np.array([1, 2])\n",
        "\n",
        "x_coords, y_coords = zip(t1, t2, t3, t1)\n",
        "plt.plot(x_coords, y_coords, 'c--', x_coords, y_coords, 'co')\n",
        "\n",
        "plot_vector2d(v, t1, color='r', ls=':')\n",
        "plot_vector2d(v, t2, color='r', ls=':')\n",
        "plot_vector2d(v, t3, color='r', ls=':')\n",
        "\n",
        "t1b = t1 + v\n",
        "t2b = t2 + v\n",
        "t3b = t3 + v\n",
        "\n",
        "x_coords, y_coords = zip(t1b, t2b, t3b, t1b)\n",
        "plt.plot(x_coords, y_coords, 'b-', x_coords, y_coords, 'bo')\n",
        "\n",
        "plt.text(4, 4.2, \"v\", color=\"r\", fontsize=18)\n",
        "plt.text(3, 2.3, \"v\", color=\"r\", fontsize=18)\n",
        "plt.text(3.5, 0.4, \"v\", color=\"r\", fontsize=18)\n",
        "\n",
        "plt.grid()\n",
        "plt.show()"
      ],
      "metadata": {
        "colab": {
          "base_uri": "https://localhost:8080/",
          "height": 430
        },
        "id": "fnq5ldY9LB6J",
        "outputId": "c0caed90-2b9b-4848-9e87-8c790fc6a38d"
      },
      "execution_count": null,
      "outputs": [
        {
          "output_type": "display_data",
          "data": {
            "text/plain": [
              "<Figure size 640x480 with 1 Axes>"
            ],
            "image/png": "[encoded data removed]"
          },
          "metadata": {}
        }
      ]
    },
    {
      "cell_type": "markdown",
      "source": [
        "# Matrix\n",
        "\n",
        "    Rectangular array of numbers arranged in rows and columns. This will help to organize a large dataset in efficient way"
      ],
      "metadata": {
        "id": "x6-esz2XA7Wc"
      }
    },
    {
      "cell_type": "code",
      "source": [
        "# simple array as matrix\n",
        "\n",
        "A = np.array([[1, 2, 3], [4, 5, 6]])    # 2 rows and 3 cols\n",
        "print(A)"
      ],
      "metadata": {
        "colab": {
          "base_uri": "https://localhost:8080/"
        },
        "id": "UNDR0Nv6A7fp",
        "outputId": "3e399aae-54c0-4301-991a-7f8c5c02febe"
      },
      "execution_count": null,
      "outputs": [
        {
          "output_type": "stream",
          "name": "stdout",
          "text": [
            "[[1 2 3]\n",
            " [4 5 6]]\n"
          ]
        }
      ]
    },
    {
      "cell_type": "markdown",
      "source": [
        "# Types of Matrix\n",
        "\n",
        "    1. Square Matrix - same no.of.rows and cols (e.g., 3x3 matrix)\n",
        "    2. Identity Matrix - square matrix with diagonal value 1 and others 0\n",
        "    3. Diagonal Matrix - only the diagonal values are non zero\n",
        "    4. Transpose of a matrix - swap rows and cols"
      ],
      "metadata": {
        "id": "Qb_T-hvDA7kO"
      }
    },
    {
      "cell_type": "code",
      "source": [
        "# list\n",
        "mtrx_lst = [[10, 20, 30], [40, 50, 60]]\n",
        "\n",
        "# Array as matrix\n",
        "mtrx_arr = np.array(mtrx_lst)\n",
        "print(mtrx_arr)\n",
        "print(mtrx_arr.shape)   # no of rows and cols\n",
        "print(mtrx_arr.size)    # no of elements (no null elements)"
      ],
      "metadata": {
        "colab": {
          "base_uri": "https://localhost:8080/"
        },
        "id": "u1u8ivqcA7nh",
        "outputId": "6fe5fe26-fa21-4ad7-d8a8-a35294d66273"
      },
      "execution_count": null,
      "outputs": [
        {
          "output_type": "stream",
          "name": "stdout",
          "text": [
            "[[10 20 30]\n",
            " [40 50 60]]\n",
            "(2, 3)\n",
            "6\n"
          ]
        }
      ]
    },
    {
      "cell_type": "code",
      "source": [
        "# element indexing\n",
        "print(mtrx_arr[0, ])\n",
        "print(mtrx_arr[0, :2])\n",
        "print(mtrx_arr[0, -1])\n",
        "print(mtrx_arr[:, 2:])\n",
        "print(mtrx_arr[1, 1])"
      ],
      "metadata": {
        "colab": {
          "base_uri": "https://localhost:8080/"
        },
        "id": "gwoPXFlsRli4",
        "outputId": "1d22db6c-657c-439f-c2e0-661ac11de446"
      },
      "execution_count": null,
      "outputs": [
        {
          "output_type": "stream",
          "name": "stdout",
          "text": [
            "[10 20 30]\n",
            "[10 20]\n",
            "30\n",
            "[[30]\n",
            " [60]]\n",
            "50\n"
          ]
        }
      ]
    },
    {
      "cell_type": "code",
      "source": [
        "# diagonal matrix\n",
        "d = np.diag([4, 5, 6, 7])\n",
        "print(d)"
      ],
      "metadata": {
        "colab": {
          "base_uri": "https://localhost:8080/"
        },
        "id": "SeTpbLa7SPzv",
        "outputId": "ecf2e960-4882-40ee-d617-6a10d6872739"
      },
      "execution_count": null,
      "outputs": [
        {
          "output_type": "stream",
          "name": "stdout",
          "text": [
            "[[4 0 0 0]\n",
            " [0 5 0 0]\n",
            " [0 0 6 0]\n",
            " [0 0 0 7]]\n"
          ]
        }
      ]
    },
    {
      "cell_type": "code",
      "source": [
        "# extract the diagonal values\n",
        "ed = np.array([[1, 2, 3],\n",
        "               [4, 5, 6]])\n",
        "\n",
        "print(np.diag(ed))\n",
        "print(np.diag(ed, k=1))\n",
        "print(np.diag(ed, k=2))"
      ],
      "metadata": {
        "colab": {
          "base_uri": "https://localhost:8080/"
        },
        "id": "8ruTcSS_S1Mn",
        "outputId": "4f55f636-d998-42b8-9bfd-7a34ac0d477d"
      },
      "execution_count": null,
      "outputs": [
        {
          "output_type": "stream",
          "name": "stdout",
          "text": [
            "[1 5]\n",
            "[2 6]\n",
            "[3]\n"
          ]
        }
      ]
    },
    {
      "cell_type": "code",
      "source": [
        "# Identity Matrix\n",
        "ey = np.eye(4, dtype='i')\n",
        "print(ey)"
      ],
      "metadata": {
        "colab": {
          "base_uri": "https://localhost:8080/"
        },
        "id": "90EiFgYgWnzC",
        "outputId": "5a0410a6-eda0-45e1-bcca-cf769350c121"
      },
      "execution_count": null,
      "outputs": [
        {
          "output_type": "stream",
          "name": "stdout",
          "text": [
            "[[1 0 0 0]\n",
            " [0 1 0 0]\n",
            " [0 0 1 0]\n",
            " [0 0 0 1]]\n"
          ]
        }
      ]
    },
    {
      "cell_type": "markdown",
      "source": [
        "# Operation with Matrix"
      ],
      "metadata": {
        "id": "c4X4ArL1XD53"
      }
    },
    {
      "cell_type": "code",
      "source": [
        "# Matrix addition and subtraction\n",
        "A = np.array([[1,2], [3,4]])\n",
        "B = np.array([[5,6], [7,8]])\n",
        "\n",
        "# Matrix addition\n",
        "C = A+B\n",
        "\n",
        "# Matrix Subtraction\n",
        "D = A-B\n",
        "\n",
        "print('A + B:\\n', C)\n",
        "print('\\nA - B:\\n', D)"
      ],
      "metadata": {
        "colab": {
          "base_uri": "https://localhost:8080/"
        },
        "id": "CYyeeGo0XKCx",
        "outputId": "8dade0f2-948b-4d13-f922-5b3688e5c707"
      },
      "execution_count": null,
      "outputs": [
        {
          "output_type": "stream",
          "name": "stdout",
          "text": [
            "A + B:\n",
            " [[ 6  8]\n",
            " [10 12]]\n",
            "\n",
            "A - B:\n",
            " [[-4 -4]\n",
            " [-4 -4]]\n"
          ]
        }
      ]
    },
    {
      "cell_type": "code",
      "source": [
        "# Multiplication\n",
        "\n",
        "# Scalar multiplication\n",
        "A = np.array([[1,2], [3,4]])\n",
        "scalar = 2\n",
        "\n",
        "SM = scalar * A    # multiply each element of the matrix with a scalar value\n",
        "\n",
        "print('2 * A:\\n', SM)"
      ],
      "metadata": {
        "colab": {
          "base_uri": "https://localhost:8080/"
        },
        "id": "2lK88QQPX2N4",
        "outputId": "77950b92-df48-4d1b-80bc-e7bb4257a0a5"
      },
      "execution_count": null,
      "outputs": [
        {
          "output_type": "stream",
          "name": "stdout",
          "text": [
            "2 * A:\n",
            " [[2 4]\n",
            " [6 8]]\n"
          ]
        }
      ]
    },
    {
      "cell_type": "markdown",
      "source": [
        "# Matrix Multiplication\n",
        "\n",
        "    For two matrix A and B to be multiplied\n",
        "        - The no.of.columns in A must match the no.of.rows in B\n",
        "        - The resultant will have the shape of A rows x B cols\n",
        "\n",
        "    Example\n",
        "\n",
        "    A = [[1, 2],         B = [[5, 6, 7],\n",
        "         [3, 4]]              [8, 9, 1]]\n",
        "\n",
        "         - Resulting Matrix : (2x2) x (2x3) = (2x3)\n",
        "         - Multiply row-wise and sum:\n",
        "\n",
        "            - A x B = [[(1x5 + 2x8), (1x6 + 2x9), (1x7 + 2x1)]\n",
        "                       [(3x5 + 4x8), (3x6 + 4x9), (3x7 + 4x1)]]\n",
        "\n",
        "                    = [[21, 24, 9],\n",
        "                       [47, 54, 25]]"
      ],
      "metadata": {
        "id": "q6wh-JRxYSe-"
      }
    },
    {
      "cell_type": "code",
      "source": [
        "# Python Code\n",
        "A = np.array([[1, 2], [3, 4]])\n",
        "B = np.array([[5, 6, 7], [8, 9, 1]])\n",
        "\n",
        "# matrix multiplication\n",
        "C = np.dot(A, B)\n",
        "\n",
        "# output\n",
        "print(f'{A.shape} x {B.shape} = {C.shape}')\n",
        "print('\\n', C)"
      ],
      "metadata": {
        "colab": {
          "base_uri": "https://localhost:8080/"
        },
        "id": "G09GaWp4a9qL",
        "outputId": "c41e9298-07ed-4a92-c245-bb29602317c2"
      },
      "execution_count": null,
      "outputs": [
        {
          "output_type": "stream",
          "name": "stdout",
          "text": [
            "(2, 2) x (2, 3) = (2, 3)\n",
            "\n",
            " [[21 24  9]\n",
            " [47 54 25]]\n"
          ]
        }
      ]
    },
    {
      "cell_type": "code",
      "source": [
        "# determinant in python (2x2)\n",
        "    # |A| = ad - bc\n",
        "\n",
        "A = np.array([[4, 7], [2,6]])\n",
        "det_A = np.linalg.det(A)\n",
        "print(round(det_A, 2))"
      ],
      "metadata": {
        "colab": {
          "base_uri": "https://localhost:8080/"
        },
        "id": "JgwnYn4QbnJ6",
        "outputId": "93d46f70-9599-4fef-80c3-34242c1d93bc"
      },
      "execution_count": null,
      "outputs": [
        {
          "output_type": "stream",
          "name": "stdout",
          "text": [
            "10.0\n"
          ]
        }
      ]
    },
    {
      "cell_type": "markdown",
      "source": [
        "# determinant for 3x3\n",
        "\n",
        "    A = [[a, b, c],\n",
        "         [d, e, f],\n",
        "         [g, h, i]]\n",
        "\n",
        "    det(A) = a(ei - hf) - b(di - fg) + c(dh - ge)\n",
        "\n",
        "    a = [[1 2 3]\n",
        "         [4 5 6]\n",
        "         [7 8 9]]\n",
        "\n",
        "    det(a) = 1(5*9-6*8) - 2(4*9-6*7) + 3(4*8-5*7)\n",
        "           = 1(-3) - 2(-6) + 3(-3)\n",
        "           = -3+12-9\n",
        "           = 0"
      ],
      "metadata": {
        "id": "xe53pINUcUPQ"
      }
    },
    {
      "cell_type": "code",
      "source": [
        "# determinant in python (3x3)\n",
        "A = np.array([[1, 2, 3], [4, 5, 6], [7, 8, 9]])\n",
        "det_A = np.linalg.det(A)\n",
        "print(round(det_A, 2))"
      ],
      "metadata": {
        "colab": {
          "base_uri": "https://localhost:8080/"
        },
        "id": "TTLU4MPTdbQC",
        "outputId": "a7dc6c79-05b0-473f-ba82-f1194ba43486"
      },
      "execution_count": null,
      "outputs": [
        {
          "output_type": "stream",
          "name": "stdout",
          "text": [
            "0.0\n"
          ]
        }
      ]
    },
    {
      "cell_type": "markdown",
      "source": [
        "# Inverse of a matrix\n",
        "\n",
        "    The inverse of a matrix A is denoted by A^(-1)\n",
        "        (A x A^(-1) = I)\n",
        "\n",
        "    Not all matrix has inverse only the square matrix with non zero determinant are invertable\n",
        "\n",
        "    Example:\n",
        "\n",
        "        A = [[4, 7],\n",
        "             [2, 6]]\n",
        "\n",
        "                    (1)\n",
        "      A^(-1) = ------------ [[6  -7]\n",
        "                (4x6 - 7x2)  [-2  4]]\n",
        "\n",
        "            \n",
        "             = (1/10) [[6  -7]\n",
        "                      [-2  4]]\n",
        "\n",
        "             = [[ 0.6, -0.7],\n",
        "                [-0.2,  0.4]\n"
      ],
      "metadata": {
        "id": "wlExlocSdyIc"
      }
    },
    {
      "cell_type": "code",
      "source": [
        "# Python implementation\n",
        "A = np.array([[4, 7], [2,6]])\n",
        "A_inv = np.linalg.inv(A)\n",
        "print(A_inv)"
      ],
      "metadata": {
        "colab": {
          "base_uri": "https://localhost:8080/"
        },
        "id": "8A6RUAYUfMk9",
        "outputId": "35a2bdc9-85c6-4c2d-ba0a-455f680d5388"
      },
      "execution_count": null,
      "outputs": [
        {
          "output_type": "stream",
          "name": "stdout",
          "text": [
            "[[ 0.6 -0.7]\n",
            " [-0.2  0.4]]\n"
          ]
        }
      ]
    },
    {
      "cell_type": "code",
      "source": [
        "# Inverse of square matrix without 0 determinant\n",
        "A = np.array([[1, 2, 3], [3, 5, 6], [9, 8, 9]])\n",
        "A_inv = np.linalg.inv(A)\n",
        "print(A_inv)"
      ],
      "metadata": {
        "colab": {
          "base_uri": "https://localhost:8080/"
        },
        "id": "JAnEuC7bf1M-",
        "outputId": "144aa854-6d58-485c-85ae-b9eff93d9f77"
      },
      "execution_count": null,
      "outputs": [
        {
          "output_type": "stream",
          "name": "stdout",
          "text": [
            "[[ 0.25       -0.5         0.25      ]\n",
            " [-2.25        1.5        -0.25      ]\n",
            " [ 1.75       -0.83333333  0.08333333]]\n"
          ]
        }
      ]
    },
    {
      "cell_type": "code",
      "source": [
        "# # Inverse of square matrix with 0 determinant\n",
        "# A = np.array([[1, 2, 3], [4, 5, 6], [7, 8, 9]])\n",
        "# A_inv = np.linalg.inv(A)\n",
        "# print(A_inv)\n",
        "\n",
        "\n",
        "# This code fails with \"LinAlgError\" because the matrix has 0 determinant"
      ],
      "metadata": {
        "id": "eOSPzkqJfZcM"
      },
      "execution_count": null,
      "outputs": []
    }
  ]
}