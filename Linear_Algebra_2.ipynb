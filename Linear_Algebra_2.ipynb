{
  "nbformat": 4,
  "nbformat_minor": 0,
  "metadata": {
    "colab": {
      "provenance": [],
      "include_colab_link": true
    },
    "kernelspec": {
      "name": "python3",
      "display_name": "Python 3"
    },
    "language_info": {
      "name": "python"
    }
  },
  "cells": [
    {
      "cell_type": "markdown",
      "metadata": {
        "id": "view-in-github",
        "colab_type": "text"
      },
      "source": [
        "<a href=\"https://colab.research.google.com/github/jayshivankar/Linear_Algebra_for_ML/blob/main/Linear_Algebra_2.ipynb\" target=\"_parent\"><img src=\"https://colab.research.google.com/assets/colab-badge.svg\" alt=\"Open In Colab\"/></a>"
      ]
    },
    {
      "cell_type": "markdown",
      "source": [
        "# Inverse of a matrix\n",
        "\n",
        "    The inverse of a matrix A is denoted by A^(-1)\n",
        "        (A x A^(-1) = I)\n",
        "\n",
        "    Not all matrix has inverse only the square matrix with non zero determinant are invertable\n",
        "\n",
        "    Example:\n",
        "\n",
        "        A = [[4, 7],\n",
        "             [2, 6]]\n",
        "\n",
        "                    (1)\n",
        "      A^(-1) = ------------ [[6  -7]\n",
        "                (4x6 - 7x2)  [-2  4]]\n",
        "\n",
        "            \n",
        "             = (1/10) [[6  -7]\n",
        "                      [-2  4]]\n",
        "\n",
        "             = [[ 0.6, -0.7],\n",
        "                [-0.2,  0.4]\n"
      ],
      "metadata": {
        "id": "Y_qYj9mzdyZf"
      }
    },
    {
      "cell_type": "markdown",
      "source": [
        "    Example:\n",
        "\n",
        "        A = [[3, 2, 1],\n",
        "             [1, 1, 2],\n",
        "             [2, 1, 3]]\n",
        "\n",
        "    \n",
        "        det(A) = 3(3-2) - 2(3-4) + 1(1-2)\n",
        "               = 3 + 2 - 1\n",
        "               = 4\n",
        "\n",
        "        - cofactor matrix (determinants of 2x2 minors with alternative signs)\n",
        "        \n",
        "        C = [ (1x3-1x2)  -(1x3-2x2)   (1x1-2x1)\n",
        "             -(2x3-1x1)   (3x3-1x2)  -(3x1-2x2)\n",
        "              (2x2-1x1)  -(3x2-1x1)   (3x1-1x2)]\n",
        "\n",
        "        C = [ 1   1  -1\n",
        "             -5   7   1\n",
        "              3  -5   1]\n",
        "\n",
        "        - Adjucate(A) is the transpose of cofactor matrix\n",
        "\n",
        "        Adj(A) = [ 1  -5   3\n",
        "                   1   7  -5\n",
        "                  -1   1   1]\n",
        "\n",
        "                      (1)       [[ 1  -5   3]\n",
        "         A^(-1) = ------------   [ 1   7  -5]\n",
        "                       4         [-1   1   1]]\n",
        "\n",
        "        \n",
        "         A^(-1) = [[ 0.25   -1.25    0.75]\n",
        "                   [ 0.25    1.75   -1.25]\n",
        "                   [-0.25    0.25    0.25]]                            \n",
        "\n",
        "                        \n",
        "\n"
      ],
      "metadata": {
        "id": "XR4mZ90oe-ut"
      }
    },
    {
      "cell_type": "code",
      "source": [
        "import numpy as np\n",
        "\n",
        "A = np.array([[3, 2, 1],[1, 1, 2],[2, 1, 3]])\n",
        "A_inv = np.linalg.inv(A)\n",
        "print(A_inv)"
      ],
      "metadata": {
        "colab": {
          "base_uri": "https://localhost:8080/"
        },
        "id": "KqnWPhVijy0r",
        "outputId": "ccc5ea5d-3996-41ef-9d5b-f7fee9434696"
      },
      "execution_count": null,
      "outputs": [
        {
          "output_type": "stream",
          "name": "stdout",
          "text": [
            "[[ 0.25 -1.25  0.75]\n",
            " [ 0.25  1.75 -1.25]\n",
            " [-0.25  0.25  0.25]]\n"
          ]
        }
      ]
    },
    {
      "cell_type": "markdown",
      "source": [
        "# Eigenvalues & Eigenvector\n",
        "\n",
        "     1. This is essential in PCA (Principle Component Analysis), transformations, clustering.\n",
        "     2. This helps to simplfy the complex pattern.\n",
        "\n",
        "     For a Square matrix A, an eigenvector v and its corresponding eigenvalue λ satisfies\n",
        "\n",
        "        * Av = λv\n",
        "\n",
        "    This equation mean:\n",
        "        - \"A\" transforms the vector \"v\" but doesnot change the direction.\n",
        "        - The vector is only stretched or shrunk by the factor λ (eigenvalue)\n",
        "\n",
        "    Example:\n",
        "\n",
        "    If \"A\" represents transformation, applying \"A\" to a eigenvector results in a scaled version of same vector.\n",
        "        - Eigenvector - direction remains unchanged\n",
        "        - Eigenvalue - scaling factor (stretch/shrunk)\n"
      ],
      "metadata": {
        "id": "BfTKHbzCk6XQ"
      }
    },
    {
      "cell_type": "markdown",
      "source": [
        "# Computing Eigen value & eigen vector\n",
        "\n",
        "    - Given  a square matrix \"A\", we compute eigenvector by solving,\n",
        "        det(A - λI) = 0\n",
        "\n",
        "        where,\n",
        "        - I is identity matrix\n",
        "        - λ represents eigenvalue\n",
        "\n",
        "    - Once we find λ, we solve for eigenvector using:\n",
        "        (A - λI)v = 0\n",
        "\n",
        "    - Example calculation\n",
        "\n",
        "        A = [4  -2\n",
        "             1   1]\n",
        "\n",
        "        Step 1: Find Eigenvalue\n",
        "\n",
        "            Solve : det(A-λI) = 0\n",
        "\n",
        "                # det [[4-λ   -2\n",
        "                         1    1-λ]]   =  0\n",
        "\n",
        "                # (4-λ)(1-λ) + 2 = 0\n",
        "                # (4-4λ-λ+λ^2+2) = 0\n",
        "                # λ^2 - 5λ + 6 = 0\n",
        "                # (λ-2)(λ-3) = 0\n",
        "\n",
        "                So the eigen value is λ = 2, 3\n",
        "\n",
        "        Step 2: Find the Eigenvector\n",
        "\n",
        "            Solve : λ = 2\n",
        "\n",
        "                # (A - λI)v = 0\n",
        "                # (A - 2I)v = 0\n",
        "\n",
        "                # [[4-2  -2]    [[x]    =   [[0]\n",
        "                   [1   1-2]]    [y]]        [0]]\n",
        "\n",
        "                # 2x - 2y = 0\n",
        "                # 2x = 2y\n",
        "                # x = y\n",
        "\n",
        "                # Eigenvector of λ=2 is any muliple of [1,1]\n",
        "\n",
        "            Solve : λ = 3\n",
        "\n",
        "                # (A - λI)v = 0\n",
        "                # (A - 3I)v = 0\n",
        "\n",
        "                # [[4-3  -2]    [[x]    =   [[0]\n",
        "                   [1   1-3]]    [y]]        [0]]\n",
        "\n",
        "                # x - 2y = 0\n",
        "                # x = 2y\n",
        "\n",
        "                # Eigenvector of λ=3 is any muliple of [2,1]\n",
        "\n",
        "\n",
        "\n",
        "\n"
      ],
      "metadata": {
        "id": "qjF8Zjvkm2Or"
      }
    },
    {
      "cell_type": "code",
      "source": [
        "# Python implementation\n",
        "A = np.array([[4, -2], [1,1]])\n",
        "\n",
        "# compute the eigenvalue and eigenvector\n",
        "eigenvalue, eigenvector = np.linalg.eig(A)\n",
        "\n",
        "# output\n",
        "print('Eigenvalue:', eigenvalue)\n",
        "print('Eigenvector:\\n', eigenvector)"
      ],
      "metadata": {
        "colab": {
          "base_uri": "https://localhost:8080/"
        },
        "id": "5o_YHQ0ZtxM0",
        "outputId": "9e48e67c-718c-4734-e042-df2fe35766ae"
      },
      "execution_count": null,
      "outputs": [
        {
          "output_type": "stream",
          "name": "stdout",
          "text": [
            "Eigenvalue: [3. 2.]\n",
            "Eigenvector:\n",
            " [[0.89442719 0.70710678]\n",
            " [0.4472136  0.70710678]]\n"
          ]
        }
      ]
    }
  ]
}